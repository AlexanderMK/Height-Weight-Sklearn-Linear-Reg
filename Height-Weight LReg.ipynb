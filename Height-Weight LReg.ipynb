{
 "cells": [
  {
   "cell_type": "code",
   "execution_count": 1,
   "metadata": {
    "collapsed": true
   },
   "outputs": [],
   "source": [
    "from sklearn import linear_model"
   ]
  },
  {
   "cell_type": "code",
   "execution_count": 7,
   "metadata": {},
   "outputs": [
    {
     "name": "stdout",
     "output_type": "stream",
     "text": [
      "height weight\n",
      "(4.0, '->', 42)\n",
      "(4.5, '->', 44)\n",
      "(5.0, '->', 49)\n",
      "(5.2, '->', 55)\n",
      "(5.4, '->', 53)\n",
      "(5.8, '->', 58)\n",
      "(6.1, '->', 60)\n",
      "(6.2, '->', 64)\n",
      "(6.4, '->', 66)\n",
      "(6.8, '->', 69)\n"
     ]
    }
   ],
   "source": [
    "height=[[4.0],[4.5],[5.0],[5.2],[5.4],[5.8],[6.1],[6.2],[6.4],[6.8]]\n",
    "weight=[  42 ,  44 , 49, 55  , 53  , 58   , 60  , 64  ,  66 ,  69]\n",
    "\n",
    "print(\"height weight\")\n",
    "for row in zip(height, weight):\n",
    "    print (row[0][0],'->',row[1])"
   ]
  },
  {
   "cell_type": "code",
   "execution_count": null,
   "metadata": {
    "collapsed": true
   },
   "outputs": [],
   "source": []
  }
 ],
 "metadata": {
  "kernelspec": {
   "display_name": "Python 2",
   "language": "python",
   "name": "python2"
  },
  "language_info": {
   "codemirror_mode": {
    "name": "ipython",
    "version": 2
   },
   "file_extension": ".py",
   "mimetype": "text/x-python",
   "name": "python",
   "nbconvert_exporter": "python",
   "pygments_lexer": "ipython2",
   "version": "2.7.13"
  }
 },
 "nbformat": 4,
 "nbformat_minor": 2
}
